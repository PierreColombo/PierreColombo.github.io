{
 "cells": [
  {
   "cell_type": "code",
   "execution_count": 1,
   "id": "32bcb799",
   "metadata": {},
   "outputs": [],
   "source": [
    "import numpy as np # linear algebra\n",
    "import pandas as pd # data processing, CSV file I/O (e.g. pd.read_csv)\n",
    "import matplotlib.pyplot as plt # for plotting beautiful graphs\n",
    "\n",
    "# train test split from sklearn\n",
    "from sklearn.model_selection import train_test_split\n",
    "\n",
    "# Import Torch \n",
    "import torch\n",
    "import torch.nn as nn\n",
    "import torchvision\n",
    "from torchvision import transforms, models\n",
    "# from torch.utils.data import SubsetRandomSampler\n",
    "from torch.autograd import Variable\n",
    "from torch import nn, optim\n",
    "import torch.nn.functional as F\n",
    "\n",
    "# What's in the current directory?\n",
    "import os"
   ]
  },
  {
   "cell_type": "markdown",
   "id": "f19c26de",
   "metadata": {},
   "source": [
    "### Declare constant"
   ]
  },
  {
   "cell_type": "code",
   "execution_count": 2,
   "id": "f71a69f9",
   "metadata": {},
   "outputs": [],
   "source": [
    "BATCH_SIZE = 4\n",
    "folder_mnist = 'mnist'\n",
    "n_epochs = 2\n",
    "lr = 1e-6"
   ]
  },
  {
   "cell_type": "markdown",
   "id": "d89aa472",
   "metadata": {},
   "source": [
    "# Data Processing"
   ]
  },
  {
   "cell_type": "markdown",
   "id": "cb93e770",
   "metadata": {},
   "source": [
    "## Download data"
   ]
  },
  {
   "cell_type": "code",
   "execution_count": 3,
   "id": "7d99a6cd",
   "metadata": {
    "scrolled": false
   },
   "outputs": [],
   "source": [
    "\n",
    "\n",
    "# torchvision.datasets.MNIST outputs a set of PIL images\n",
    "# We transform them to tensors\n",
    "transform = transforms.ToTensor()\n",
    "\n",
    "# Load and transform data\n",
    "trainset = torchvision.datasets.MNIST(folder_mnist, train=True, download=True, transform=transform)\n",
    "trainloader = torch.utils.data.DataLoader(trainset, batch_size=BATCH_SIZE, shuffle=True, num_workers=2)\n",
    "\n",
    "testset = torchvision.datasets.MNIST(folder_mnist, train=False, download=True, transform=transform)\n",
    "testloader = torch.utils.data.DataLoader(testset, batch_size=BATCH_SIZE, shuffle=False, num_workers=2)"
   ]
  },
  {
   "cell_type": "markdown",
   "id": "508e3778",
   "metadata": {},
   "source": [
    "## Vizualize the Data"
   ]
  },
  {
   "cell_type": "code",
   "execution_count": 4,
   "id": "e978c66c",
   "metadata": {},
   "outputs": [],
   "source": [
    "def show_batch(batch):\n",
    "    im = torchvision.utils.make_grid(batch)\n",
    "    plt.imshow(np.transpose(im.numpy(), (1, 2, 0)))"
   ]
  },
  {
   "cell_type": "code",
   "execution_count": 5,
   "id": "ec928526",
   "metadata": {},
   "outputs": [
    {
     "name": "stdout",
     "output_type": "stream",
     "text": [
      "Labels:  tensor([6, 5, 4, 3])\n",
      "Batch shape:  torch.Size([4, 1, 28, 28])\n"
     ]
    },
    {
     "data": {
      "image/png": "[encoded data removed]",
      "text/plain": [
       "<Figure size 640x480 with 1 Axes>"
      ]
     },
     "metadata": {},
     "output_type": "display_data"
    }
   ],
   "source": [
    "dataiter = iter(trainloader)\n",
    "images, labels = dataiter.next()\n",
    "\n",
    "print('Labels: ', labels)\n",
    "print('Batch shape: ', images.size())\n",
    "show_batch(images)"
   ]
  },
  {
   "cell_type": "markdown",
   "id": "e2faafae",
   "metadata": {},
   "source": [
    "# Training Loop"
   ]
  },
  {
   "cell_type": "markdown",
   "id": "84faa416",
   "metadata": {},
   "source": [
    "### Declare the Model"
   ]
  },
  {
   "cell_type": "code",
   "execution_count": 6,
   "id": "ae5bad54",
   "metadata": {},
   "outputs": [],
   "source": [
    "class MLP(nn.Module):\n",
    "    def __init__(self):\n",
    "        super(MLP, self).__init__()\n",
    "        self.linear1 = nn.Linear(28*28, 256)\n",
    "        self.linear2 = nn.Linear(256, 10)\n",
    "\n",
    "    def forward(self, x):\n",
    "        h_relu = F.relu(self.linear1(x.view(BATCH_SIZE, -1)))\n",
    "        y_pred = self.linear2(h_relu)\n",
    "        return y_pred"
   ]
  },
  {
   "cell_type": "markdown",
   "id": "900b704f",
   "metadata": {},
   "source": [
    "### Implement Training Loop"
   ]
  },
  {
   "cell_type": "code",
   "execution_count": 7,
   "id": "d1e34c98",
   "metadata": {},
   "outputs": [],
   "source": [
    "model = MLP()\n",
    "criterion = nn.CrossEntropyLoss()\n",
    "optimizer = optim.Adam(model.parameters(), lr=lr)"
   ]
  },
  {
   "cell_type": "code",
   "execution_count": 18,
   "id": "f1a7f2d5",
   "metadata": {},
   "outputs": [
    {
     "name": "stdout",
     "output_type": "stream",
     "text": [
      "0 0 1.094968557357788\n",
      "0 2000 1.1078987121582031\n",
      "0 4000 1.260049819946289\n",
      "0 6000 1.3333159685134888\n",
      "0 8000 1.611464262008667\n",
      "0 10000 1.1430189609527588\n",
      "0 12000 0.8537676334381104\n",
      "0 14000 1.0614573955535889\n",
      "1 0 1.1745471954345703\n",
      "1 2000 0.9308956861495972\n",
      "1 4000 1.0698184967041016\n",
      "1 6000 0.9795215129852295\n",
      "1 8000 0.6310036182403564\n",
      "1 10000 0.642576277256012\n",
      "1 12000 0.8185365200042725\n",
      "1 14000 0.775263249874115\n"
     ]
    }
   ],
   "source": [
    "losses = []\n",
    "for t in range(n_epochs):\n",
    "    for i, data in enumerate(trainloader):\n",
    "        inputs, labels = data\n",
    "\n",
    "\n",
    "        optimizer.zero_grad()         # Empty gradient\n",
    "\n",
    "        outputs = model(inputs)       # Implement Forward\n",
    "        loss = criterion(outputs, labels) # Compute the loss\n",
    "        loss.backward() # Compute the gradient for each variable\n",
    "        optimizer.step() # Update the weights according to the computed gradient\n",
    "        losses.append(loss.item())\n",
    "        if not i % 2000:\n",
    "            print(t, i, loss.item())"
   ]
  },
  {
   "cell_type": "markdown",
   "id": "aef9ab6b",
   "metadata": {},
   "source": [
    "### Plot the losses"
   ]
  },
  {
   "cell_type": "code",
   "execution_count": 19,
   "id": "b7e7179f",
   "metadata": {},
   "outputs": [
    {
     "data": {
      "text/plain": [
       "[<matplotlib.lines.Line2D at 0x7fe07045ae50>]"
      ]
     },
     "execution_count": 19,
     "metadata": {},
     "output_type": "execute_result"
    },
    {
     "data": {
      "image/png": "[encoded data removed]",
      "text/plain": [
       "<Figure size 640x480 with 1 Axes>"
      ]
     },
     "metadata": {},
     "output_type": "display_data"
    }
   ],
   "source": [
    "plt.plot(losses)\n"
   ]
  },
  {
   "cell_type": "markdown",
   "id": "137a0f6b",
   "metadata": {},
   "source": [
    "### Implement Testing "
   ]
  },
  {
   "cell_type": "code",
   "execution_count": 22,
   "id": "4b88fd16",
   "metadata": {},
   "outputs": [
    {
     "data": {
      "text/plain": [
       "2013.1380966454744"
      ]
     },
     "execution_count": 22,
     "metadata": {},
     "output_type": "execute_result"
    }
   ],
   "source": [
    "test_loss"
   ]
  },
  {
   "cell_type": "code",
   "execution_count": 32,
   "id": "e037b216",
   "metadata": {},
   "outputs": [],
   "source": [
    "correct = 0\n",
    "test_loss = 0\n",
    "for data in testloader:\n",
    "        inputs, labels = data\n",
    "        outputs = model(inputs)\n",
    "        loss = criterion(outputs, labels) # Compute the loss\n",
    "        test_loss+= loss.item() / BATCH_SIZE\n",
    "        _, predicted = torch.max(outputs, 1) \n",
    "        correct += (predicted == labels).sum()\n",
    "final_loss =  test_loss / len(testset) \n",
    "final_accuracy = 100 * correct /  len(testset) \n"
   ]
  },
  {
   "cell_type": "code",
   "execution_count": 33,
   "id": "f9823ab5",
   "metadata": {},
   "outputs": [
    {
     "name": "stdout",
     "output_type": "stream",
     "text": [
      "Final Loss 0.05799198639839888 ----- Final Accurracy 84.0999984741211\n"
     ]
    }
   ],
   "source": [
    "print(f'Final Loss {final_loss} ----- Final Accurracy {final_accuracy}'  )"
   ]
  },
  {
   "cell_type": "markdown",
   "id": "12dfd7c2",
   "metadata": {},
   "source": [
    "# Implement Deployement functions "
   ]
  },
  {
   "cell_type": "code",
   "execution_count": 12,
   "id": "7ad0b59c",
   "metadata": {},
   "outputs": [],
   "source": [
    "def predict(model, images):\n",
    "    outputs = model(images)\n",
    "    _, predicted = torch.max(outputs.data, 1)  # TODO: explain why 1\n",
    "    return predicted"
   ]
  },
  {
   "cell_type": "code",
   "execution_count": 23,
   "id": "b408f26c",
   "metadata": {},
   "outputs": [
    {
     "name": "stdout",
     "output_type": "stream",
     "text": [
      "Prediction:  tensor([7, 2, 1, 0])\n"
     ]
    },
    {
     "data": {
      "image/png": "[encoded data removed]",
      "text/plain": [
       "<Figure size 640x480 with 1 Axes>"
      ]
     },
     "metadata": {},
     "output_type": "display_data"
    }
   ],
   "source": [
    "dataiter = iter(testloader)\n",
    "images, labels = dataiter.next()\n",
    "\n",
    "show_batch(images)\n",
    "print('Prediction: ', predict(model, images))"
   ]
  },
  {
   "cell_type": "code",
   "execution_count": null,
   "id": "1eb4793e",
   "metadata": {},
   "outputs": [],
   "source": []
  }
 ],
 "metadata": {
  "kernelspec": {
   "display_name": "Python 3 (ipykernel)",
   "language": "python",
   "name": "python3"
  },
  "language_info": {
   "codemirror_mode": {
    "name": "ipython",
    "version": 3
   },
   "file_extension": ".py",
   "mimetype": "text/x-python",
   "name": "python",
   "nbconvert_exporter": "python",
   "pygments_lexer": "ipython3",
   "version": "3.8.13"
  }
 },
 "nbformat": 4,
 "nbformat_minor": 5
}
